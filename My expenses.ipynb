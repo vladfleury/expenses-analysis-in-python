{
 "cells": [
  {
   "cell_type": "markdown",
   "id": "5e966ffd",
   "metadata": {},
   "source": [
    "# Analysis of my expenses"
   ]
  },
  {
   "cell_type": "markdown",
   "id": "2d435049",
   "metadata": {},
   "source": [
    "## Reading in the dataframe\n",
    "\n",
    "The dataframe contains data about my personal expenses in the period <b>February 26th - April 14th</b>."
   ]
  },
  {
   "cell_type": "markdown",
   "id": "be7b9279",
   "metadata": {},
   "source": [
    "First, let's import the necessary libraries"
   ]
  },
  {
   "cell_type": "code",
   "execution_count": 37,
   "id": "4b9752ec",
   "metadata": {},
   "outputs": [],
   "source": [
    "import pandas as pd\n",
    "import matplotlib.pyplot as plt"
   ]
  },
  {
   "cell_type": "markdown",
   "id": "b50d527d",
   "metadata": {},
   "source": [
    "Now, we will read in the data set and examine it"
   ]
  },
  {
   "cell_type": "code",
   "execution_count": 38,
   "id": "6889ba46",
   "metadata": {},
   "outputs": [
    {
     "data": {
      "text/html": [
       "<div>\n",
       "<style scoped>\n",
       "    .dataframe tbody tr th:only-of-type {\n",
       "        vertical-align: middle;\n",
       "    }\n",
       "\n",
       "    .dataframe tbody tr th {\n",
       "        vertical-align: top;\n",
       "    }\n",
       "\n",
       "    .dataframe thead th {\n",
       "        text-align: right;\n",
       "    }\n",
       "</style>\n",
       "<table border=\"1\" class=\"dataframe\">\n",
       "  <thead>\n",
       "    <tr style=\"text-align: right;\">\n",
       "      <th></th>\n",
       "      <th>KPMG;1;1823.75;2023-04-14 17:16:44;</th>\n",
       "    </tr>\n",
       "  </thead>\n",
       "  <tbody>\n",
       "    <tr>\n",
       "      <th>0</th>\n",
       "      <td>Other;1;80.0;2023-04-14 01:20:59;</td>\n",
       "    </tr>\n",
       "    <tr>\n",
       "      <th>1</th>\n",
       "      <td>Sale of assets ;1;15.0;2023-04-07 00:40:29;</td>\n",
       "    </tr>\n",
       "    <tr>\n",
       "      <th>2</th>\n",
       "      <td>KPMG;1;1037.75;2023-04-06 10:43:56;</td>\n",
       "    </tr>\n",
       "    <tr>\n",
       "      <th>3</th>\n",
       "      <td>Jacob;1;428.61;2023-04-03 22:07:46;</td>\n",
       "    </tr>\n",
       "    <tr>\n",
       "      <th>4</th>\n",
       "      <td>Jacob;1;914.0200000000001;2023-04-03 22:06:30;</td>\n",
       "    </tr>\n",
       "  </tbody>\n",
       "</table>\n",
       "</div>"
      ],
      "text/plain": [
       "              KPMG;1;1823.75;2023-04-14 17:16:44;\n",
       "0               Other;1;80.0;2023-04-14 01:20:59;\n",
       "1     Sale of assets ;1;15.0;2023-04-07 00:40:29;\n",
       "2             KPMG;1;1037.75;2023-04-06 10:43:56;\n",
       "3             Jacob;1;428.61;2023-04-03 22:07:46;\n",
       "4  Jacob;1;914.0200000000001;2023-04-03 22:06:30;"
      ]
     },
     "execution_count": 38,
     "metadata": {},
     "output_type": "execute_result"
    }
   ],
   "source": [
    "df = pd.read_csv('Data.csv')\n",
    "df.head(5)"
   ]
  },
  {
   "cell_type": "markdown",
   "id": "27a75b0d",
   "metadata": {},
   "source": [
    "### Wow, the data is quite messy. Let's change how we import it:"
   ]
  },
  {
   "cell_type": "code",
   "execution_count": 39,
   "id": "e23d667e",
   "metadata": {},
   "outputs": [
    {
     "data": {
      "text/html": [
       "<div>\n",
       "<style scoped>\n",
       "    .dataframe tbody tr th:only-of-type {\n",
       "        vertical-align: middle;\n",
       "    }\n",
       "\n",
       "    .dataframe tbody tr th {\n",
       "        vertical-align: top;\n",
       "    }\n",
       "\n",
       "    .dataframe thead th {\n",
       "        text-align: right;\n",
       "    }\n",
       "</style>\n",
       "<table border=\"1\" class=\"dataframe\">\n",
       "  <thead>\n",
       "    <tr style=\"text-align: right;\">\n",
       "      <th></th>\n",
       "      <th>Category</th>\n",
       "      <th>Is income?</th>\n",
       "      <th>Amount (EUR)</th>\n",
       "      <th>Date</th>\n",
       "      <th>Description</th>\n",
       "    </tr>\n",
       "  </thead>\n",
       "  <tbody>\n",
       "    <tr>\n",
       "      <th>0</th>\n",
       "      <td>KPMG</td>\n",
       "      <td>1</td>\n",
       "      <td>1823.75</td>\n",
       "      <td>2023-04-14 17:16:44</td>\n",
       "      <td>NaN</td>\n",
       "    </tr>\n",
       "    <tr>\n",
       "      <th>1</th>\n",
       "      <td>Other</td>\n",
       "      <td>1</td>\n",
       "      <td>80.00</td>\n",
       "      <td>2023-04-14 01:20:59</td>\n",
       "      <td>NaN</td>\n",
       "    </tr>\n",
       "    <tr>\n",
       "      <th>2</th>\n",
       "      <td>Sale of assets</td>\n",
       "      <td>1</td>\n",
       "      <td>15.00</td>\n",
       "      <td>2023-04-07 00:40:29</td>\n",
       "      <td>NaN</td>\n",
       "    </tr>\n",
       "    <tr>\n",
       "      <th>3</th>\n",
       "      <td>KPMG</td>\n",
       "      <td>1</td>\n",
       "      <td>1037.75</td>\n",
       "      <td>2023-04-06 10:43:56</td>\n",
       "      <td>NaN</td>\n",
       "    </tr>\n",
       "    <tr>\n",
       "      <th>4</th>\n",
       "      <td>Jacob</td>\n",
       "      <td>1</td>\n",
       "      <td>428.61</td>\n",
       "      <td>2023-04-03 22:07:46</td>\n",
       "      <td>NaN</td>\n",
       "    </tr>\n",
       "  </tbody>\n",
       "</table>\n",
       "</div>"
      ],
      "text/plain": [
       "          Category  Is income?  Amount (EUR)                 Date Description\n",
       "0             KPMG           1       1823.75  2023-04-14 17:16:44         NaN\n",
       "1            Other           1         80.00  2023-04-14 01:20:59         NaN\n",
       "2  Sale of assets            1         15.00  2023-04-07 00:40:29         NaN\n",
       "3             KPMG           1       1037.75  2023-04-06 10:43:56         NaN\n",
       "4            Jacob           1        428.61  2023-04-03 22:07:46         NaN"
      ]
     },
     "execution_count": 39,
     "metadata": {},
     "output_type": "execute_result"
    }
   ],
   "source": [
    "df = pd.read_csv('Data.csv', sep=';', names=['Category', 'Is income?', 'Amount (EUR)', 'Date', 'Description'])\n",
    "df.head()"
   ]
  },
  {
   "cell_type": "markdown",
   "id": "0da2023d",
   "metadata": {},
   "source": [
    "Much better :)"
   ]
  },
  {
   "cell_type": "markdown",
   "id": "e5ddd03c",
   "metadata": {},
   "source": [
    "# Data cleaning"
   ]
  },
  {
   "cell_type": "markdown",
   "id": "e46941d1",
   "metadata": {},
   "source": [
    "There's no need to keep <b>'Is income?'</b> column in the data frame, as we want to analyze expenses only. So, we'll just subset expenses."
   ]
  },
  {
   "cell_type": "code",
   "execution_count": 40,
   "id": "fb9fb5a6",
   "metadata": {},
   "outputs": [],
   "source": [
    "expenses_df = df[df['Is income?'] == 0]"
   ]
  },
  {
   "cell_type": "code",
   "execution_count": 41,
   "id": "d572f3d2",
   "metadata": {},
   "outputs": [
    {
     "name": "stdout",
     "output_type": "stream",
     "text": [
      "<class 'pandas.core.frame.DataFrame'>\n",
      "Int64Index: 278 entries, 10 to 287\n",
      "Data columns (total 5 columns):\n",
      " #   Column        Non-Null Count  Dtype  \n",
      "---  ------        --------------  -----  \n",
      " 0   Category      278 non-null    object \n",
      " 1   Is income?    278 non-null    int64  \n",
      " 2   Amount (EUR)  278 non-null    float64\n",
      " 3   Date          278 non-null    object \n",
      " 4   Description   71 non-null     object \n",
      "dtypes: float64(1), int64(1), object(3)\n",
      "memory usage: 13.0+ KB\n"
     ]
    }
   ],
   "source": [
    "expenses_df.info()"
   ]
  },
  {
   "cell_type": "markdown",
   "id": "65ac22ea",
   "metadata": {},
   "source": [
    "Now, let's make <b>'Date'</b> column as date type, and remove the <b>'Is income?'</b> column."
   ]
  },
  {
   "cell_type": "code",
   "execution_count": 42,
   "id": "2a28c847",
   "metadata": {},
   "outputs": [],
   "source": [
    "expenses_df = expenses_df.drop('Is income?', axis = 1)"
   ]
  },
  {
   "cell_type": "code",
   "execution_count": 43,
   "id": "87dfc859",
   "metadata": {},
   "outputs": [],
   "source": [
    "expenses_df['Date'] = pd.to_datetime(expenses_df['Date']).dt.date # we only keep the date, no need to keep the time"
   ]
  },
  {
   "cell_type": "code",
   "execution_count": 44,
   "id": "2eed65c0",
   "metadata": {},
   "outputs": [
    {
     "data": {
      "text/html": [
       "<div>\n",
       "<style scoped>\n",
       "    .dataframe tbody tr th:only-of-type {\n",
       "        vertical-align: middle;\n",
       "    }\n",
       "\n",
       "    .dataframe tbody tr th {\n",
       "        vertical-align: top;\n",
       "    }\n",
       "\n",
       "    .dataframe thead th {\n",
       "        text-align: right;\n",
       "    }\n",
       "</style>\n",
       "<table border=\"1\" class=\"dataframe\">\n",
       "  <thead>\n",
       "    <tr style=\"text-align: right;\">\n",
       "      <th></th>\n",
       "      <th>Category</th>\n",
       "      <th>Amount (EUR)</th>\n",
       "      <th>Date</th>\n",
       "      <th>Description</th>\n",
       "    </tr>\n",
       "  </thead>\n",
       "  <tbody>\n",
       "    <tr>\n",
       "      <th>10</th>\n",
       "      <td>Debts</td>\n",
       "      <td>30.0</td>\n",
       "      <td>2023-04-14</td>\n",
       "      <td>NaN</td>\n",
       "    </tr>\n",
       "    <tr>\n",
       "      <th>11</th>\n",
       "      <td>Shopping</td>\n",
       "      <td>40.0</td>\n",
       "      <td>2023-04-13</td>\n",
       "      <td>NaN</td>\n",
       "    </tr>\n",
       "    <tr>\n",
       "      <th>12</th>\n",
       "      <td>Groceries</td>\n",
       "      <td>10.0</td>\n",
       "      <td>2023-04-12</td>\n",
       "      <td>NaN</td>\n",
       "    </tr>\n",
       "    <tr>\n",
       "      <th>13</th>\n",
       "      <td>Pharmacy</td>\n",
       "      <td>30.0</td>\n",
       "      <td>2023-04-12</td>\n",
       "      <td>NaN</td>\n",
       "    </tr>\n",
       "    <tr>\n",
       "      <th>14</th>\n",
       "      <td>Food / Eating out</td>\n",
       "      <td>3.2</td>\n",
       "      <td>2023-04-12</td>\n",
       "      <td>NaN</td>\n",
       "    </tr>\n",
       "  </tbody>\n",
       "</table>\n",
       "</div>"
      ],
      "text/plain": [
       "              Category  Amount (EUR)        Date Description\n",
       "10               Debts          30.0  2023-04-14         NaN\n",
       "11           Shopping           40.0  2023-04-13         NaN\n",
       "12           Groceries          10.0  2023-04-12         NaN\n",
       "13           Pharmacy           30.0  2023-04-12         NaN\n",
       "14  Food / Eating out            3.2  2023-04-12         NaN"
      ]
     },
     "execution_count": 44,
     "metadata": {},
     "output_type": "execute_result"
    }
   ],
   "source": [
    "expenses_df.head(5)"
   ]
  },
  {
   "cell_type": "code",
   "execution_count": 45,
   "id": "8067b7a7",
   "metadata": {},
   "outputs": [
    {
     "data": {
      "text/html": [
       "<div>\n",
       "<style scoped>\n",
       "    .dataframe tbody tr th:only-of-type {\n",
       "        vertical-align: middle;\n",
       "    }\n",
       "\n",
       "    .dataframe tbody tr th {\n",
       "        vertical-align: top;\n",
       "    }\n",
       "\n",
       "    .dataframe thead th {\n",
       "        text-align: right;\n",
       "    }\n",
       "</style>\n",
       "<table border=\"1\" class=\"dataframe\">\n",
       "  <thead>\n",
       "    <tr style=\"text-align: right;\">\n",
       "      <th></th>\n",
       "      <th>Amount (EUR)</th>\n",
       "    </tr>\n",
       "  </thead>\n",
       "  <tbody>\n",
       "    <tr>\n",
       "      <th>count</th>\n",
       "      <td>278.000000</td>\n",
       "    </tr>\n",
       "    <tr>\n",
       "      <th>mean</th>\n",
       "      <td>21.718489</td>\n",
       "    </tr>\n",
       "    <tr>\n",
       "      <th>std</th>\n",
       "      <td>55.013932</td>\n",
       "    </tr>\n",
       "    <tr>\n",
       "      <th>min</th>\n",
       "      <td>0.600000</td>\n",
       "    </tr>\n",
       "    <tr>\n",
       "      <th>25%</th>\n",
       "      <td>3.985000</td>\n",
       "    </tr>\n",
       "    <tr>\n",
       "      <th>50%</th>\n",
       "      <td>7.800000</td>\n",
       "    </tr>\n",
       "    <tr>\n",
       "      <th>75%</th>\n",
       "      <td>15.137500</td>\n",
       "    </tr>\n",
       "    <tr>\n",
       "      <th>max</th>\n",
       "      <td>490.000000</td>\n",
       "    </tr>\n",
       "  </tbody>\n",
       "</table>\n",
       "</div>"
      ],
      "text/plain": [
       "       Amount (EUR)\n",
       "count    278.000000\n",
       "mean      21.718489\n",
       "std       55.013932\n",
       "min        0.600000\n",
       "25%        3.985000\n",
       "50%        7.800000\n",
       "75%       15.137500\n",
       "max      490.000000"
      ]
     },
     "execution_count": 45,
     "metadata": {},
     "output_type": "execute_result"
    }
   ],
   "source": [
    "expenses_df.describe()"
   ]
  },
  {
   "cell_type": "markdown",
   "id": "ee782e6a",
   "metadata": {},
   "source": [
    "From the .describe() statistics above - we see that:\n",
    "* There has been a total of <b>278</b> transactions during the period. \n",
    "* The mean transaction amount is <b>21.7 EUR</b>.\n",
    "* The biggest transaction was <b>490 EUR</b>, and the lowest was <b>0.6 Euro</b>.\n",
    "\n",
    "Curious, what were those transactions?"
   ]
  },
  {
   "cell_type": "markdown",
   "id": "fa2babea",
   "metadata": {},
   "source": [
    "### Lowest Transaction"
   ]
  },
  {
   "cell_type": "code",
   "execution_count": 46,
   "id": "88c36ed8",
   "metadata": {},
   "outputs": [
    {
     "data": {
      "text/html": [
       "<div>\n",
       "<style scoped>\n",
       "    .dataframe tbody tr th:only-of-type {\n",
       "        vertical-align: middle;\n",
       "    }\n",
       "\n",
       "    .dataframe tbody tr th {\n",
       "        vertical-align: top;\n",
       "    }\n",
       "\n",
       "    .dataframe thead th {\n",
       "        text-align: right;\n",
       "    }\n",
       "</style>\n",
       "<table border=\"1\" class=\"dataframe\">\n",
       "  <thead>\n",
       "    <tr style=\"text-align: right;\">\n",
       "      <th></th>\n",
       "      <th>Category</th>\n",
       "      <th>Date</th>\n",
       "    </tr>\n",
       "  </thead>\n",
       "  <tbody>\n",
       "    <tr>\n",
       "      <th>26</th>\n",
       "      <td>Groceries</td>\n",
       "      <td>2023-04-10</td>\n",
       "    </tr>\n",
       "  </tbody>\n",
       "</table>\n",
       "</div>"
      ],
      "text/plain": [
       "     Category        Date\n",
       "26  Groceries  2023-04-10"
      ]
     },
     "execution_count": 46,
     "metadata": {},
     "output_type": "execute_result"
    }
   ],
   "source": [
    "expenses_df.loc[expenses_df['Amount (EUR)'] == 0.6, ['Category', 'Date']]"
   ]
  },
  {
   "cell_type": "markdown",
   "id": "91a91069",
   "metadata": {},
   "source": [
    "The lowest transaction was 60 cent when I bought some <b>groceries</b>. Not sure what it was."
   ]
  },
  {
   "cell_type": "markdown",
   "id": "7d56259d",
   "metadata": {},
   "source": [
    "### Biggest transaction"
   ]
  },
  {
   "cell_type": "code",
   "execution_count": 47,
   "id": "8de91bdc",
   "metadata": {},
   "outputs": [
    {
     "data": {
      "text/html": [
       "<div>\n",
       "<style scoped>\n",
       "    .dataframe tbody tr th:only-of-type {\n",
       "        vertical-align: middle;\n",
       "    }\n",
       "\n",
       "    .dataframe tbody tr th {\n",
       "        vertical-align: top;\n",
       "    }\n",
       "\n",
       "    .dataframe thead th {\n",
       "        text-align: right;\n",
       "    }\n",
       "</style>\n",
       "<table border=\"1\" class=\"dataframe\">\n",
       "  <thead>\n",
       "    <tr style=\"text-align: right;\">\n",
       "      <th></th>\n",
       "      <th>Category</th>\n",
       "      <th>Date</th>\n",
       "    </tr>\n",
       "  </thead>\n",
       "  <tbody>\n",
       "    <tr>\n",
       "      <th>184</th>\n",
       "      <td>Home</td>\n",
       "      <td>2023-03-16</td>\n",
       "    </tr>\n",
       "  </tbody>\n",
       "</table>\n",
       "</div>"
      ],
      "text/plain": [
       "    Category        Date\n",
       "184     Home  2023-03-16"
      ]
     },
     "execution_count": 47,
     "metadata": {},
     "output_type": "execute_result"
    }
   ],
   "source": [
    "expenses_df.loc[expenses_df['Amount (EUR)'] == 490, ['Category', 'Date']]"
   ]
  },
  {
   "cell_type": "markdown",
   "id": "90822b88",
   "metadata": {},
   "source": [
    "Biggest transaction was in category <b>'Home'</b> - most likely it was rent payment for the month."
   ]
  },
  {
   "cell_type": "markdown",
   "id": "08226e39",
   "metadata": {},
   "source": [
    "What were some other big transactions I've had? Let's look at the top 5."
   ]
  },
  {
   "cell_type": "code",
   "execution_count": 48,
   "id": "01e63c99",
   "metadata": {},
   "outputs": [
    {
     "data": {
      "text/html": [
       "<div>\n",
       "<style scoped>\n",
       "    .dataframe tbody tr th:only-of-type {\n",
       "        vertical-align: middle;\n",
       "    }\n",
       "\n",
       "    .dataframe tbody tr th {\n",
       "        vertical-align: top;\n",
       "    }\n",
       "\n",
       "    .dataframe thead th {\n",
       "        text-align: right;\n",
       "    }\n",
       "</style>\n",
       "<table border=\"1\" class=\"dataframe\">\n",
       "  <thead>\n",
       "    <tr style=\"text-align: right;\">\n",
       "      <th></th>\n",
       "      <th>Category</th>\n",
       "      <th>Amount (EUR)</th>\n",
       "      <th>Date</th>\n",
       "      <th>Description</th>\n",
       "    </tr>\n",
       "  </thead>\n",
       "  <tbody>\n",
       "    <tr>\n",
       "      <th>184</th>\n",
       "      <td>Home</td>\n",
       "      <td>490.00</td>\n",
       "      <td>2023-03-16</td>\n",
       "      <td>NaN</td>\n",
       "    </tr>\n",
       "    <tr>\n",
       "      <th>87</th>\n",
       "      <td>Debts</td>\n",
       "      <td>425.00</td>\n",
       "      <td>2023-04-03</td>\n",
       "      <td>NaN</td>\n",
       "    </tr>\n",
       "    <tr>\n",
       "      <th>262</th>\n",
       "      <td>Debts</td>\n",
       "      <td>350.00</td>\n",
       "      <td>2023-03-03</td>\n",
       "      <td>Roman debt</td>\n",
       "    </tr>\n",
       "    <tr>\n",
       "      <th>263</th>\n",
       "      <td>Home</td>\n",
       "      <td>317.69</td>\n",
       "      <td>2023-03-03</td>\n",
       "      <td>Utilities + deposit for new appartment</td>\n",
       "    </tr>\n",
       "    <tr>\n",
       "      <th>57</th>\n",
       "      <td>Home</td>\n",
       "      <td>278.59</td>\n",
       "      <td>2023-04-06</td>\n",
       "      <td>NaN</td>\n",
       "    </tr>\n",
       "  </tbody>\n",
       "</table>\n",
       "</div>"
      ],
      "text/plain": [
       "    Category  Amount (EUR)        Date  \\\n",
       "184     Home        490.00  2023-03-16   \n",
       "87     Debts        425.00  2023-04-03   \n",
       "262    Debts        350.00  2023-03-03   \n",
       "263     Home        317.69  2023-03-03   \n",
       "57      Home        278.59  2023-04-06   \n",
       "\n",
       "                                 Description  \n",
       "184                                      NaN  \n",
       "87                                       NaN  \n",
       "262                              Roman debt   \n",
       "263  Utilities + deposit for new appartment   \n",
       "57                                       NaN  "
      ]
     },
     "execution_count": 48,
     "metadata": {},
     "output_type": "execute_result"
    }
   ],
   "source": [
    "expenses_df.sort_values('Amount (EUR)', ascending = False).head(5)"
   ]
  },
  {
   "cell_type": "markdown",
   "id": "31ae164e",
   "metadata": {},
   "source": [
    "Some of the biggest transactions are payments for <b>rent, utilities</b> and <b>debt repayment</b>."
   ]
  },
  {
   "cell_type": "code",
   "execution_count": 49,
   "id": "70900580",
   "metadata": {},
   "outputs": [
    {
     "name": "stdout",
     "output_type": "stream",
     "text": [
      "<class 'pandas.core.frame.DataFrame'>\n",
      "Int64Index: 278 entries, 10 to 287\n",
      "Data columns (total 4 columns):\n",
      " #   Column        Non-Null Count  Dtype  \n",
      "---  ------        --------------  -----  \n",
      " 0   Category      278 non-null    object \n",
      " 1   Amount (EUR)  278 non-null    float64\n",
      " 2   Date          278 non-null    object \n",
      " 3   Description   71 non-null     object \n",
      "dtypes: float64(1), object(3)\n",
      "memory usage: 10.9+ KB\n"
     ]
    }
   ],
   "source": [
    "expenses_df.info()"
   ]
  },
  {
   "cell_type": "markdown",
   "id": "37a0f036",
   "metadata": {},
   "source": [
    "# What questions do I want to have answered?\n",
    "\n",
    "Well, it makes the most sense to start looking at a bigger question - how do I cut my expenses?\n",
    "\n",
    "Maybe, I need to identify the biggest spending categories I have...\n",
    "\n",
    "1. I need to see what categories I have the most spendings in\n",
    "2. What's the total spending by category?\n",
    "3. What's the spending in % by category?\n",
    "4. How much have I spent in total in that period?\n",
    "5. I need to look how my spending varies over a month."
   ]
  },
  {
   "cell_type": "markdown",
   "id": "aacb940f",
   "metadata": {},
   "source": [
    "## 1. Let's see where we have the most transactions"
   ]
  },
  {
   "cell_type": "code",
   "execution_count": 50,
   "id": "4d4f42ea",
   "metadata": {},
   "outputs": [
    {
     "data": {
      "text/plain": [
       "Groceries               53\n",
       "Food / Eating out       52\n",
       "Coffeeshop              23\n",
       "Wolt                    22\n",
       "Taxi                    19\n",
       "Snacks                  16\n",
       "Shopping                15\n",
       "Drogas                  13\n",
       "Bar / Drinks            11\n",
       "Online Subscriptions    10\n",
       "Pharmacy                 8\n",
       "Debts                    6\n",
       "Travel                   5\n",
       "Vape                     3\n",
       "English for liza         3\n",
       "Sports                   3\n",
       "Home                     3\n",
       "Services                 3\n",
       "TET INTERNET             2\n",
       "Church                   2\n",
       "Finance                  2\n",
       "Donation                 1\n",
       "Gifts                    1\n",
       "Transport                1\n",
       "Entertainment            1\n",
       "Name: Category, dtype: int64"
      ]
     },
     "execution_count": 50,
     "metadata": {},
     "output_type": "execute_result"
    }
   ],
   "source": [
    "expenses_df['Category'].value_counts()"
   ]
  },
  {
   "cell_type": "markdown",
   "id": "bf394048",
   "metadata": {},
   "source": [
    "The most transactions I've made doing <b>grocery</b> shopping, in <b>coffeeshops</b>, <b>eating out</b>, <b>ordering food on Wolt</b>, <b>taxi</b>, <b>snacks</b>, and others.."
   ]
  },
  {
   "cell_type": "markdown",
   "id": "a5017637",
   "metadata": {},
   "source": [
    "## 2. What's the total spendings by categories?"
   ]
  },
  {
   "cell_type": "code",
   "execution_count": 51,
   "id": "b6f5d6be",
   "metadata": {},
   "outputs": [
    {
     "name": "stderr",
     "output_type": "stream",
     "text": [
      "/var/folders/lb/ycks6x5j701fgf187k28xkn80000gn/T/ipykernel_28459/1571428781.py:1: FutureWarning: The default value of numeric_only in DataFrameGroupBy.sum is deprecated. In a future version, numeric_only will default to False. Either specify numeric_only or select only columns which should be valid for the function.\n",
      "  grouped_df = expenses_df.groupby(by='Category').sum().sort_values('Amount (EUR)', ascending = False)\n"
     ]
    },
    {
     "data": {
      "text/html": [
       "<div>\n",
       "<style scoped>\n",
       "    .dataframe tbody tr th:only-of-type {\n",
       "        vertical-align: middle;\n",
       "    }\n",
       "\n",
       "    .dataframe tbody tr th {\n",
       "        vertical-align: top;\n",
       "    }\n",
       "\n",
       "    .dataframe thead th {\n",
       "        text-align: right;\n",
       "    }\n",
       "</style>\n",
       "<table border=\"1\" class=\"dataframe\">\n",
       "  <thead>\n",
       "    <tr style=\"text-align: right;\">\n",
       "      <th></th>\n",
       "      <th>Amount (EUR)</th>\n",
       "    </tr>\n",
       "    <tr>\n",
       "      <th>Category</th>\n",
       "      <th></th>\n",
       "    </tr>\n",
       "  </thead>\n",
       "  <tbody>\n",
       "    <tr>\n",
       "      <th>Debts</th>\n",
       "      <td>1214.31</td>\n",
       "    </tr>\n",
       "    <tr>\n",
       "      <th>Home</th>\n",
       "      <td>1086.28</td>\n",
       "    </tr>\n",
       "    <tr>\n",
       "      <th>Food / Eating out</th>\n",
       "      <td>757.61</td>\n",
       "    </tr>\n",
       "    <tr>\n",
       "      <th>Shopping</th>\n",
       "      <td>708.62</td>\n",
       "    </tr>\n",
       "    <tr>\n",
       "      <th>Groceries</th>\n",
       "      <td>396.30</td>\n",
       "    </tr>\n",
       "    <tr>\n",
       "      <th>Travel</th>\n",
       "      <td>340.82</td>\n",
       "    </tr>\n",
       "    <tr>\n",
       "      <th>Wolt</th>\n",
       "      <td>319.44</td>\n",
       "    </tr>\n",
       "    <tr>\n",
       "      <th>Bar / Drinks</th>\n",
       "      <td>198.79</td>\n",
       "    </tr>\n",
       "    <tr>\n",
       "      <th>Taxi</th>\n",
       "      <td>192.50</td>\n",
       "    </tr>\n",
       "    <tr>\n",
       "      <th>Coffeeshop</th>\n",
       "      <td>131.32</td>\n",
       "    </tr>\n",
       "    <tr>\n",
       "      <th>Drogas</th>\n",
       "      <td>106.86</td>\n",
       "    </tr>\n",
       "    <tr>\n",
       "      <th>Gifts</th>\n",
       "      <td>104.89</td>\n",
       "    </tr>\n",
       "    <tr>\n",
       "      <th>Pharmacy</th>\n",
       "      <td>88.71</td>\n",
       "    </tr>\n",
       "    <tr>\n",
       "      <th>Services</th>\n",
       "      <td>86.65</td>\n",
       "    </tr>\n",
       "    <tr>\n",
       "      <th>Online Subscriptions</th>\n",
       "      <td>77.43</td>\n",
       "    </tr>\n",
       "    <tr>\n",
       "      <th>English for liza</th>\n",
       "      <td>47.87</td>\n",
       "    </tr>\n",
       "    <tr>\n",
       "      <th>Snacks</th>\n",
       "      <td>45.41</td>\n",
       "    </tr>\n",
       "    <tr>\n",
       "      <th>TET INTERNET</th>\n",
       "      <td>41.10</td>\n",
       "    </tr>\n",
       "    <tr>\n",
       "      <th>Sports</th>\n",
       "      <td>30.90</td>\n",
       "    </tr>\n",
       "    <tr>\n",
       "      <th>Entertainment</th>\n",
       "      <td>24.00</td>\n",
       "    </tr>\n",
       "    <tr>\n",
       "      <th>Vape</th>\n",
       "      <td>19.48</td>\n",
       "    </tr>\n",
       "    <tr>\n",
       "      <th>Transport</th>\n",
       "      <td>6.20</td>\n",
       "    </tr>\n",
       "    <tr>\n",
       "      <th>Church</th>\n",
       "      <td>5.70</td>\n",
       "    </tr>\n",
       "    <tr>\n",
       "      <th>Finance</th>\n",
       "      <td>5.19</td>\n",
       "    </tr>\n",
       "    <tr>\n",
       "      <th>Donation</th>\n",
       "      <td>1.36</td>\n",
       "    </tr>\n",
       "  </tbody>\n",
       "</table>\n",
       "</div>"
      ],
      "text/plain": [
       "                      Amount (EUR)\n",
       "Category                          \n",
       "Debts                      1214.31\n",
       "Home                       1086.28\n",
       "Food / Eating out           757.61\n",
       "Shopping                    708.62\n",
       "Groceries                   396.30\n",
       "Travel                      340.82\n",
       "Wolt                        319.44\n",
       "Bar / Drinks                198.79\n",
       "Taxi                        192.50\n",
       "Coffeeshop                  131.32\n",
       "Drogas                      106.86\n",
       "Gifts                       104.89\n",
       "Pharmacy                     88.71\n",
       "Services                     86.65\n",
       "Online Subscriptions         77.43\n",
       "English for liza             47.87\n",
       "Snacks                       45.41\n",
       "TET INTERNET                 41.10\n",
       "Sports                       30.90\n",
       "Entertainment                24.00\n",
       "Vape                         19.48\n",
       "Transport                     6.20\n",
       "Church                        5.70\n",
       "Finance                       5.19\n",
       "Donation                      1.36"
      ]
     },
     "execution_count": 51,
     "metadata": {},
     "output_type": "execute_result"
    }
   ],
   "source": [
    "grouped_df = expenses_df.groupby(by='Category').sum().sort_values('Amount (EUR)', ascending = False)\n",
    "grouped_df"
   ]
  },
  {
   "cell_type": "markdown",
   "id": "4c88be01",
   "metadata": {},
   "source": [
    "### Let's vizualize what I have above. "
   ]
  },
  {
   "cell_type": "code",
   "execution_count": 52,
   "id": "c845ac63",
   "metadata": {},
   "outputs": [],
   "source": [
    "grouped_df.reset_index(inplace=True)"
   ]
  },
  {
   "cell_type": "code",
   "execution_count": 53,
   "id": "af760847",
   "metadata": {},
   "outputs": [
    {
     "data": {
      "image/png": "[encoded data removed]",
      "text/plain": [
       "<Figure size 640x480 with 1 Axes>"
      ]
     },
     "metadata": {},
     "output_type": "display_data"
    }
   ],
   "source": [
    "plt.style.use('ggplot')\n",
    "\n",
    "plt.barh(grouped_df['Category'], grouped_df['Amount (EUR)'], color='maroon')\n",
    "\n",
    "plt.xlabel('Amount Spent')\n",
    "plt.ylabel('Category')\n",
    "plt.title('Spending by category for the period, EUR')\n",
    "\n",
    "plt.show()"
   ]
  },
  {
   "cell_type": "markdown",
   "id": "33a6913a",
   "metadata": {},
   "source": [
    "hm... That's quite informative actually. There are definitely categories that I could've lived without that could save me lots of cash. \n",
    "\n",
    "### 3. Let me see what those values are as a % of total spendings..."
   ]
  },
  {
   "cell_type": "markdown",
   "id": "4ff271bc",
   "metadata": {},
   "source": [
    "#### First, I'll calcualte the total spending which will actually answer question number 4"
   ]
  },
  {
   "cell_type": "code",
   "execution_count": 54,
   "id": "4535acae",
   "metadata": {},
   "outputs": [
    {
     "name": "stdout",
     "output_type": "stream",
     "text": [
      "My total spending for the period is 6037.74\n"
     ]
    }
   ],
   "source": [
    "total_spending = expenses_df['Amount (EUR)'].sum()\n",
    "print('My total spending for the period is', total_spending)"
   ]
  },
  {
   "cell_type": "markdown",
   "id": "6080fcf5",
   "metadata": {},
   "source": [
    "Oh wow... I literally blew <b>6 grand</b> in 1.5 months... that's quite nervewrecking if you think about it."
   ]
  },
  {
   "cell_type": "markdown",
   "id": "d9abdaf5",
   "metadata": {},
   "source": [
    "#### Next, I'll add a new column with percentage of total spendings"
   ]
  },
  {
   "cell_type": "code",
   "execution_count": 55,
   "id": "e2983877",
   "metadata": {},
   "outputs": [],
   "source": [
    "expenses_df['Percentage of total %'] = expenses_df['Amount (EUR)'] / total_spending * 100\n",
    "expenses_df['Percentage of total %'] = round(expenses_df['Percentage of total %'], 2)"
   ]
  },
  {
   "cell_type": "code",
   "execution_count": 56,
   "id": "053ea609",
   "metadata": {},
   "outputs": [
    {
     "data": {
      "text/html": [
       "<div>\n",
       "<style scoped>\n",
       "    .dataframe tbody tr th:only-of-type {\n",
       "        vertical-align: middle;\n",
       "    }\n",
       "\n",
       "    .dataframe tbody tr th {\n",
       "        vertical-align: top;\n",
       "    }\n",
       "\n",
       "    .dataframe thead th {\n",
       "        text-align: right;\n",
       "    }\n",
       "</style>\n",
       "<table border=\"1\" class=\"dataframe\">\n",
       "  <thead>\n",
       "    <tr style=\"text-align: right;\">\n",
       "      <th></th>\n",
       "      <th>Category</th>\n",
       "      <th>Amount (EUR)</th>\n",
       "      <th>Date</th>\n",
       "      <th>Description</th>\n",
       "      <th>Percentage of total %</th>\n",
       "    </tr>\n",
       "  </thead>\n",
       "  <tbody>\n",
       "    <tr>\n",
       "      <th>10</th>\n",
       "      <td>Debts</td>\n",
       "      <td>30.0</td>\n",
       "      <td>2023-04-14</td>\n",
       "      <td>NaN</td>\n",
       "      <td>0.50</td>\n",
       "    </tr>\n",
       "    <tr>\n",
       "      <th>11</th>\n",
       "      <td>Shopping</td>\n",
       "      <td>40.0</td>\n",
       "      <td>2023-04-13</td>\n",
       "      <td>NaN</td>\n",
       "      <td>0.66</td>\n",
       "    </tr>\n",
       "    <tr>\n",
       "      <th>12</th>\n",
       "      <td>Groceries</td>\n",
       "      <td>10.0</td>\n",
       "      <td>2023-04-12</td>\n",
       "      <td>NaN</td>\n",
       "      <td>0.17</td>\n",
       "    </tr>\n",
       "    <tr>\n",
       "      <th>13</th>\n",
       "      <td>Pharmacy</td>\n",
       "      <td>30.0</td>\n",
       "      <td>2023-04-12</td>\n",
       "      <td>NaN</td>\n",
       "      <td>0.50</td>\n",
       "    </tr>\n",
       "    <tr>\n",
       "      <th>14</th>\n",
       "      <td>Food / Eating out</td>\n",
       "      <td>3.2</td>\n",
       "      <td>2023-04-12</td>\n",
       "      <td>NaN</td>\n",
       "      <td>0.05</td>\n",
       "    </tr>\n",
       "  </tbody>\n",
       "</table>\n",
       "</div>"
      ],
      "text/plain": [
       "              Category  Amount (EUR)        Date Description  \\\n",
       "10               Debts          30.0  2023-04-14         NaN   \n",
       "11           Shopping           40.0  2023-04-13         NaN   \n",
       "12           Groceries          10.0  2023-04-12         NaN   \n",
       "13           Pharmacy           30.0  2023-04-12         NaN   \n",
       "14  Food / Eating out            3.2  2023-04-12         NaN   \n",
       "\n",
       "    Percentage of total %  \n",
       "10                   0.50  \n",
       "11                   0.66  \n",
       "12                   0.17  \n",
       "13                   0.50  \n",
       "14                   0.05  "
      ]
     },
     "execution_count": 56,
     "metadata": {},
     "output_type": "execute_result"
    }
   ],
   "source": [
    "expenses_df.head()"
   ]
  },
  {
   "cell_type": "code",
   "execution_count": 57,
   "id": "8a6ee490",
   "metadata": {},
   "outputs": [
    {
     "data": {
      "text/html": [
       "<div>\n",
       "<style scoped>\n",
       "    .dataframe tbody tr th:only-of-type {\n",
       "        vertical-align: middle;\n",
       "    }\n",
       "\n",
       "    .dataframe tbody tr th {\n",
       "        vertical-align: top;\n",
       "    }\n",
       "\n",
       "    .dataframe thead th {\n",
       "        text-align: right;\n",
       "    }\n",
       "</style>\n",
       "<table border=\"1\" class=\"dataframe\">\n",
       "  <thead>\n",
       "    <tr style=\"text-align: right;\">\n",
       "      <th></th>\n",
       "      <th>Amount (EUR)</th>\n",
       "      <th>Percentage of total %</th>\n",
       "    </tr>\n",
       "    <tr>\n",
       "      <th>Category</th>\n",
       "      <th></th>\n",
       "      <th></th>\n",
       "    </tr>\n",
       "  </thead>\n",
       "  <tbody>\n",
       "    <tr>\n",
       "      <th>Debts</th>\n",
       "      <td>1214.31</td>\n",
       "      <td>20.12</td>\n",
       "    </tr>\n",
       "    <tr>\n",
       "      <th>Home</th>\n",
       "      <td>1086.28</td>\n",
       "      <td>17.99</td>\n",
       "    </tr>\n",
       "    <tr>\n",
       "      <th>Food / Eating out</th>\n",
       "      <td>757.61</td>\n",
       "      <td>12.55</td>\n",
       "    </tr>\n",
       "    <tr>\n",
       "      <th>Shopping</th>\n",
       "      <td>708.62</td>\n",
       "      <td>11.73</td>\n",
       "    </tr>\n",
       "    <tr>\n",
       "      <th>Groceries</th>\n",
       "      <td>396.30</td>\n",
       "      <td>6.58</td>\n",
       "    </tr>\n",
       "    <tr>\n",
       "      <th>Travel</th>\n",
       "      <td>340.82</td>\n",
       "      <td>5.64</td>\n",
       "    </tr>\n",
       "    <tr>\n",
       "      <th>Wolt</th>\n",
       "      <td>319.44</td>\n",
       "      <td>5.29</td>\n",
       "    </tr>\n",
       "    <tr>\n",
       "      <th>Bar / Drinks</th>\n",
       "      <td>198.79</td>\n",
       "      <td>3.30</td>\n",
       "    </tr>\n",
       "    <tr>\n",
       "      <th>Taxi</th>\n",
       "      <td>192.50</td>\n",
       "      <td>3.17</td>\n",
       "    </tr>\n",
       "    <tr>\n",
       "      <th>Coffeeshop</th>\n",
       "      <td>131.32</td>\n",
       "      <td>2.17</td>\n",
       "    </tr>\n",
       "    <tr>\n",
       "      <th>Drogas</th>\n",
       "      <td>106.86</td>\n",
       "      <td>1.76</td>\n",
       "    </tr>\n",
       "    <tr>\n",
       "      <th>Gifts</th>\n",
       "      <td>104.89</td>\n",
       "      <td>1.74</td>\n",
       "    </tr>\n",
       "    <tr>\n",
       "      <th>Pharmacy</th>\n",
       "      <td>88.71</td>\n",
       "      <td>1.46</td>\n",
       "    </tr>\n",
       "    <tr>\n",
       "      <th>Services</th>\n",
       "      <td>86.65</td>\n",
       "      <td>1.44</td>\n",
       "    </tr>\n",
       "    <tr>\n",
       "      <th>Online Subscriptions</th>\n",
       "      <td>77.43</td>\n",
       "      <td>1.28</td>\n",
       "    </tr>\n",
       "    <tr>\n",
       "      <th>English for liza</th>\n",
       "      <td>47.87</td>\n",
       "      <td>0.80</td>\n",
       "    </tr>\n",
       "    <tr>\n",
       "      <th>Snacks</th>\n",
       "      <td>45.41</td>\n",
       "      <td>0.74</td>\n",
       "    </tr>\n",
       "    <tr>\n",
       "      <th>TET INTERNET</th>\n",
       "      <td>41.10</td>\n",
       "      <td>0.68</td>\n",
       "    </tr>\n",
       "    <tr>\n",
       "      <th>Sports</th>\n",
       "      <td>30.90</td>\n",
       "      <td>0.51</td>\n",
       "    </tr>\n",
       "    <tr>\n",
       "      <th>Entertainment</th>\n",
       "      <td>24.00</td>\n",
       "      <td>0.40</td>\n",
       "    </tr>\n",
       "    <tr>\n",
       "      <th>Vape</th>\n",
       "      <td>19.48</td>\n",
       "      <td>0.33</td>\n",
       "    </tr>\n",
       "    <tr>\n",
       "      <th>Transport</th>\n",
       "      <td>6.20</td>\n",
       "      <td>0.10</td>\n",
       "    </tr>\n",
       "    <tr>\n",
       "      <th>Church</th>\n",
       "      <td>5.70</td>\n",
       "      <td>0.10</td>\n",
       "    </tr>\n",
       "    <tr>\n",
       "      <th>Finance</th>\n",
       "      <td>5.19</td>\n",
       "      <td>0.09</td>\n",
       "    </tr>\n",
       "    <tr>\n",
       "      <th>Donation</th>\n",
       "      <td>1.36</td>\n",
       "      <td>0.02</td>\n",
       "    </tr>\n",
       "  </tbody>\n",
       "</table>\n",
       "</div>"
      ],
      "text/plain": [
       "                      Amount (EUR)  Percentage of total %\n",
       "Category                                                 \n",
       "Debts                      1214.31                  20.12\n",
       "Home                       1086.28                  17.99\n",
       "Food / Eating out           757.61                  12.55\n",
       "Shopping                    708.62                  11.73\n",
       "Groceries                   396.30                   6.58\n",
       "Travel                      340.82                   5.64\n",
       "Wolt                        319.44                   5.29\n",
       "Bar / Drinks                198.79                   3.30\n",
       "Taxi                        192.50                   3.17\n",
       "Coffeeshop                  131.32                   2.17\n",
       "Drogas                      106.86                   1.76\n",
       "Gifts                       104.89                   1.74\n",
       "Pharmacy                     88.71                   1.46\n",
       "Services                     86.65                   1.44\n",
       "Online Subscriptions         77.43                   1.28\n",
       "English for liza             47.87                   0.80\n",
       "Snacks                       45.41                   0.74\n",
       "TET INTERNET                 41.10                   0.68\n",
       "Sports                       30.90                   0.51\n",
       "Entertainment                24.00                   0.40\n",
       "Vape                         19.48                   0.33\n",
       "Transport                     6.20                   0.10\n",
       "Church                        5.70                   0.10\n",
       "Finance                       5.19                   0.09\n",
       "Donation                      1.36                   0.02"
      ]
     },
     "execution_count": 57,
     "metadata": {},
     "output_type": "execute_result"
    }
   ],
   "source": [
    "grouped_df2 = expenses_df.groupby(by='Category').sum('Percentage of total %').sort_values('Percentage of total %', ascending = False)\n",
    "grouped_df2"
   ]
  },
  {
   "cell_type": "markdown",
   "id": "97dc5285",
   "metadata": {},
   "source": [
    "### Let's vizualize it now"
   ]
  },
  {
   "cell_type": "code",
   "execution_count": 58,
   "id": "e2fff6bb",
   "metadata": {},
   "outputs": [],
   "source": [
    "grouped_df2.reset_index(inplace=True)"
   ]
  },
  {
   "cell_type": "code",
   "execution_count": 60,
   "id": "23bc2aa9",
   "metadata": {},
   "outputs": [
    {
     "data": {
      "image/png": "[encoded data removed]",
      "text/plain": [
       "<Figure size 640x480 with 1 Axes>"
      ]
     },
     "metadata": {},
     "output_type": "display_data"
    }
   ],
   "source": [
    "plt.style.use('ggplot')\n",
    "\n",
    "plt.barh(grouped_df2['Category'], grouped_df2['Percentage of total %'], color='maroon')\n",
    "\n",
    "plt.xlabel('Amount Spent %')\n",
    "plt.ylabel('Category')\n",
    "plt.title('Spending by category for the period, %')\n",
    "\n",
    "plt.show()"
   ]
  },
  {
   "cell_type": "markdown",
   "id": "7a667087",
   "metadata": {},
   "source": [
    "<b>What did I learn from this?</b> Well, many categories could've been cut off which would have resulted in higher savings. \n",
    "\n",
    "For examples, the following categories are really unnecesarry for comfortable life:\n",
    "* Vape\n",
    "* Entertainment\n",
    "* Snacks\n",
    "* Gifts\n",
    "* Coffeeshop\n",
    "* Bar / Drinks\n",
    "* Wolt\n",
    "* Travel\n",
    "\n",
    "#### Let's see how much I could've saved if I didn't spend in those categories."
   ]
  },
  {
   "cell_type": "code",
   "execution_count": 62,
   "id": "17f89db0",
   "metadata": {},
   "outputs": [
    {
     "data": {
      "text/html": [
       "<div>\n",
       "<style scoped>\n",
       "    .dataframe tbody tr th:only-of-type {\n",
       "        vertical-align: middle;\n",
       "    }\n",
       "\n",
       "    .dataframe tbody tr th {\n",
       "        vertical-align: top;\n",
       "    }\n",
       "\n",
       "    .dataframe thead th {\n",
       "        text-align: right;\n",
       "    }\n",
       "</style>\n",
       "<table border=\"1\" class=\"dataframe\">\n",
       "  <thead>\n",
       "    <tr style=\"text-align: right;\">\n",
       "      <th></th>\n",
       "      <th>Amount (EUR)</th>\n",
       "      <th>Percentage of total %</th>\n",
       "    </tr>\n",
       "    <tr>\n",
       "      <th>Category</th>\n",
       "      <th></th>\n",
       "      <th></th>\n",
       "    </tr>\n",
       "  </thead>\n",
       "  <tbody>\n",
       "    <tr>\n",
       "      <th>Bar / Drinks</th>\n",
       "      <td>198.79</td>\n",
       "      <td>3.30</td>\n",
       "    </tr>\n",
       "    <tr>\n",
       "      <th>Coffeeshop</th>\n",
       "      <td>131.32</td>\n",
       "      <td>2.17</td>\n",
       "    </tr>\n",
       "    <tr>\n",
       "      <th>Entertainment</th>\n",
       "      <td>24.00</td>\n",
       "      <td>0.40</td>\n",
       "    </tr>\n",
       "    <tr>\n",
       "      <th>Gifts</th>\n",
       "      <td>104.89</td>\n",
       "      <td>1.74</td>\n",
       "    </tr>\n",
       "    <tr>\n",
       "      <th>Snacks</th>\n",
       "      <td>45.41</td>\n",
       "      <td>0.74</td>\n",
       "    </tr>\n",
       "    <tr>\n",
       "      <th>Travel</th>\n",
       "      <td>340.82</td>\n",
       "      <td>5.64</td>\n",
       "    </tr>\n",
       "    <tr>\n",
       "      <th>Vape</th>\n",
       "      <td>19.48</td>\n",
       "      <td>0.33</td>\n",
       "    </tr>\n",
       "    <tr>\n",
       "      <th>Wolt</th>\n",
       "      <td>319.44</td>\n",
       "      <td>5.29</td>\n",
       "    </tr>\n",
       "  </tbody>\n",
       "</table>\n",
       "</div>"
      ],
      "text/plain": [
       "               Amount (EUR)  Percentage of total %\n",
       "Category                                          \n",
       "Bar / Drinks         198.79                   3.30\n",
       "Coffeeshop           131.32                   2.17\n",
       "Entertainment         24.00                   0.40\n",
       "Gifts                104.89                   1.74\n",
       "Snacks                45.41                   0.74\n",
       "Travel               340.82                   5.64\n",
       "Vape                  19.48                   0.33\n",
       "Wolt                 319.44                   5.29"
      ]
     },
     "execution_count": 62,
     "metadata": {},
     "output_type": "execute_result"
    }
   ],
   "source": [
    "categories = ['Vape', 'Entertainment', 'Snacks', 'Gifts', 'Coffeeshop', 'Bar / Drinks', 'Wolt', 'Travel']\n",
    "expenses_df.loc[expenses_df['Category'].isin(categories), ['Category', 'Amount (EUR)', 'Percentage of total %']].groupby(by='Category').sum()"
   ]
  },
  {
   "cell_type": "code",
   "execution_count": 63,
   "id": "7c6b1d86",
   "metadata": {},
   "outputs": [
    {
     "name": "stdout",
     "output_type": "stream",
     "text": [
      "I could've saved EUR 1184\n"
     ]
    }
   ],
   "source": [
    "potential_savings = expenses_df.loc[expenses_df['Category'].isin(categories), ['Amount (EUR)']].sum()\n",
    "print(\"I could've saved EUR\", int(potential_savings))"
   ]
  },
  {
   "cell_type": "markdown",
   "id": "a829e068",
   "metadata": {},
   "source": [
    "## 5. Finally, let's plot our daily spendings"
   ]
  },
  {
   "cell_type": "code",
   "execution_count": 64,
   "id": "c24ad59a",
   "metadata": {},
   "outputs": [],
   "source": [
    "# group the transactions by day and calculate the total amount for each day\n",
    "\n",
    "daily_totals = expenses_df.groupby('Date')['Amount (EUR)'].sum()\n",
    "daily_totals = pd.DataFrame(daily_totals)\n",
    "daily_totals.reset_index(inplace=True)"
   ]
  },
  {
   "cell_type": "code",
   "execution_count": 65,
   "id": "ad7165cb",
   "metadata": {},
   "outputs": [
    {
     "data": {
      "image/png": "[encoded data removed]",
      "text/plain": [
       "<Figure size 640x480 with 1 Axes>"
      ]
     },
     "metadata": {},
     "output_type": "display_data"
    }
   ],
   "source": [
    "plt.plot(daily_totals['Date'], daily_totals['Amount (EUR)'])\n",
    "\n",
    "plt.xlabel('Date')\n",
    "plt.ylabel('Total Spent')\n",
    "plt.title('Daily spendings')\n",
    "plt.xticks(rotation=90)\n",
    "\n",
    "plt.show()"
   ]
  },
  {
   "cell_type": "markdown",
   "id": "87000a02",
   "metadata": {},
   "source": [
    "Interesting, looks like spendings are made in spikes. That's probably because most spendings are done when utilitiy bills come in."
   ]
  },
  {
   "cell_type": "markdown",
   "id": "9d79f127",
   "metadata": {},
   "source": [
    "#### I see that one of the biggest spending categories is coffee shops - many transactions are made in that category:\n",
    "* 23 transactions \n",
    "* EUR 131.31 is spent on coffee\n",
    "\n",
    "That's EUR <b>EUR 5.71</b> per visit.\n",
    "\n",
    "23 transactions in 48 days means I get coffee in coffeeshop, on average, every 2 days.\n",
    "\n",
    "That is <b>182</b> cups of takeout coffee a year.\n",
    "\n",
    "If I visit coffeeshops at my current frequency (once every 2 days) - that means I spend <b> EUR 1039.22 </b> on coffee alone.\n",
    "\n",
    "### That means a EUR 500 coffeemachine is definitely worth buying"
   ]
  },
  {
   "cell_type": "code",
   "execution_count": 72,
   "id": "af0057fa",
   "metadata": {},
   "outputs": [
    {
     "name": "stdout",
     "output_type": "stream",
     "text": [
      "5.71\n"
     ]
    }
   ],
   "source": [
    "print(round((131.31 / 23), 2))"
   ]
  },
  {
   "cell_type": "code",
   "execution_count": 71,
   "id": "f7a0c923",
   "metadata": {},
   "outputs": [
    {
     "name": "stdout",
     "output_type": "stream",
     "text": [
      "2.09\n"
     ]
    }
   ],
   "source": [
    "print(round((48 / 23), 2))"
   ]
  },
  {
   "cell_type": "code",
   "execution_count": 74,
   "id": "ca539487",
   "metadata": {},
   "outputs": [
    {
     "name": "stdout",
     "output_type": "stream",
     "text": [
      "1039.22\n"
     ]
    }
   ],
   "source": [
    "print(5.71 * 182)"
   ]
  },
  {
   "cell_type": "markdown",
   "id": "f664f51d",
   "metadata": {},
   "source": [
    "## Key Takeaways:\n",
    "* Cutting expenses in categories (Vape, Entertainment, Snacks, Gifts, Coffeeshop, Bar / Drinks, Wolt, Travel) could result in EUR 1,184 savings\n",
    "* Coffee Machine is Worth Buying\n",
    "* Average spending per month is <b>EUR 3,773.59</b> - that is hell of a lot of cash. \n",
    "\n",
    "Meaning to support my current lifestyle I need to be making NET around EUR 4,000 as a data analyst."
   ]
  },
  {
   "cell_type": "code",
   "execution_count": 81,
   "id": "eb5a1290",
   "metadata": {},
   "outputs": [
    {
     "name": "stdout",
     "output_type": "stream",
     "text": [
      "3773.59\n"
     ]
    }
   ],
   "source": [
    "# Calcualting average monthly spending:\n",
    "print(round((total_spending * 30 / 48), 2))"
   ]
  }
 ],
 "metadata": {
  "kernelspec": {
   "display_name": "Python 3 (ipykernel)",
   "language": "python",
   "name": "python3"
  },
  "language_info": {
   "codemirror_mode": {
    "name": "ipython",
    "version": 3
   },
   "file_extension": ".py",
   "mimetype": "text/x-python",
   "name": "python",
   "nbconvert_exporter": "python",
   "pygments_lexer": "ipython3",
   "version": "3.11.2"
  }
 },
 "nbformat": 4,
 "nbformat_minor": 5
}
